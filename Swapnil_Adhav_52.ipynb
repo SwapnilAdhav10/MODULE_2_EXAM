{
 "cells": [
  {
   "cell_type": "code",
   "execution_count": 6,
   "metadata": {
    "colab": {
     "base_uri": "https://localhost:8080/"
    },
    "id": "sd8VrdFEeU6i",
    "outputId": "8aa1575d-b1f1-469f-fdc8-1c62a02f9e86"
   },
   "outputs": [
    {
     "name": "stdout",
     "output_type": "stream",
     "text": [
      "enter hours  3\n",
      "enter minute 25\n",
      "seconds are 10800\n"
     ]
    }
   ],
   "source": [
    "#q1.Convert given hrs & mins in second \n",
    "hours= int(input(\"enter hours  \"))\n",
    "minute=int(input(\"enter minute \"))\n",
    "hours_to_seconds = hours * 60 * 60\n",
    "minutes_to_seconds= minute * 60\n",
    "seconds= hours_to_seconds + minutes_to_seconds\n",
    "print(\"seconds are\", hours_to_seconds)\n",
    "\n",
    "\n",
    "\n",
    "\n"
   ]
  },
  {
   "cell_type": "code",
   "execution_count": 25,
   "metadata": {
    "colab": {
     "base_uri": "https://localhost:8080/"
    },
    "id": "GH-Mx1KLepFU",
    "outputId": "d18a2b2e-5ac2-473d-dc83-3f56571bb3d6"
   },
   "outputs": [
    {
     "name": "stdout",
     "output_type": "stream",
     "text": [
      "enter a no. from 1 to 10 3\n",
      "three \n",
      "\n"
     ]
    }
   ],
   "source": [
    "'''Q.4) Write a code to accept a number & print\n",
    "in words.\n",
    "Ex: 123\n",
    "Three\n",
    "Two\n",
    "On\n",
    "'''\n",
    "dic1={\n",
    "    \"1\" : \"one\",\n",
    "    \"2\":\"two\",\n",
    "    '3' : 'three',\n",
    "    '4' :'four',\n",
    "    '5':'five',\n",
    "    '6': 'six',\n",
    "    '7':'seven',\n",
    "    '8':'eight',\n",
    "    '9':'nine',\n",
    "    '0':'zero'\n",
    "\n",
    "}\n",
    "a=input(\"enter a no. from 1 to 10 \")\n",
    "for i in a:\n",
    "  print(dic1[i],\"\\n\")\n",
    "  \n",
    "\n",
    "\n",
    "\n",
    "\n"
   ]
  },
  {
   "cell_type": "code",
   "execution_count": 16,
   "metadata": {
    "colab": {
     "base_uri": "https://localhost:8080/"
    },
    "id": "ZijQsAh9piZV",
    "outputId": "b6178d46-9175-4f20-a732-8b46b234ffb1"
   },
   "outputs": [
    {
     "name": "stdout",
     "output_type": "stream",
     "text": [
      "name swappy age  23\n"
     ]
    }
   ],
   "source": [
    "# Q.5) Create class\n",
    "class People:\n",
    "  def personal(self,name,age):\n",
    "    self.name=name\n",
    "    self.age=age\n",
    "  def intro(self):\n",
    "    print(\"name\",self.name, \"age \", self.age)\n",
    "p1=People()\n",
    "p1.personal(\"swappy\",23)\n",
    "p1.intro()"
   ]
  },
  {
   "cell_type": "code",
   "execution_count": 19,
   "metadata": {
    "colab": {
     "base_uri": "https://localhost:8080/"
    },
    "id": "JWilscY9t3UH",
    "outputId": "5334ae45-802a-4bd2-b97b-fd86d6603d93"
   },
   "outputs": [
    {
     "name": "stdout",
     "output_type": "stream",
     "text": [
      "enter rupees3\n",
      "300 paise\n"
     ]
    }
   ],
   "source": [
    "'''Q.7) Convert Paise in Rupees &\n",
    "Paises\n",
    "Ex: 350 is 3 Rupees 50 Paise\n",
    "3.50 print Rupees: 3\n",
    "Paise: 50\n",
    "'''\n",
    "paise=100\n",
    "rs=int(input(\"enter rupees\"))\n",
    "result= rs*paise\n",
    "print(result,\"paise\")\n"
   ]
  },
  {
   "cell_type": "code",
   "execution_count": 29,
   "metadata": {
    "colab": {
     "base_uri": "https://localhost:8080/"
    },
    "id": "5mvyGoA4vItZ",
    "outputId": "5527a65c-42f2-4b54-eb9c-fdf5a8b73f7a"
   },
   "outputs": [
    {
     "name": "stdout",
     "output_type": "stream",
     "text": [
      "iamswap\n",
      "imwp"
     ]
    }
   ],
   "source": [
    "'''#Q.9) Accept String & print only alternate\n",
    "characters on a string.\n",
    "Ex: this i s a _ test\n",
    "'''\n",
    "s=input()\n",
    "var=s\n",
    "for i in range(0,len(var),2):\n",
    "  print(var[i],end=\"\")\n"
   ]
  },
  {
   "cell_type": "code",
   "execution_count": 33,
   "metadata": {
    "colab": {
     "base_uri": "https://localhost:8080/"
    },
    "id": "JQyUGqb0xvM3",
    "outputId": "b4d74fa4-26d2-4dd3-a7c9-4dc59f5cf7c9"
   },
   "outputs": [
    {
     "name": "stdout",
     "output_type": "stream",
     "text": [
      "enter the numbers5\n",
      "enter number1\n",
      "enter number2\n",
      "enter number3\n",
      "enter number4\n",
      "enter number5\n",
      "avarage 3.0\n"
     ]
    }
   ],
   "source": [
    "'''Q.2) Write code to find the average of ‘n’\n",
    "numbers entered by the user to function avg ( ).\n",
    "Ex: avg (10, 20, 30, 40) => average is: 70\n",
    "avg (5, 10, 15) => average is: 10'''\n",
    "no=int(input(\"enter the numbers\"))\n",
    "sum=0\n",
    "for i in range(no):\n",
    "  a=int(input(\"enter number\"))\n",
    "  sum=sum+a\n",
    "avg= sum/no\n",
    "print(\"avarage\",avg)"
   ]
  },
  {
   "cell_type": "code",
   "execution_count": 48,
   "metadata": {
    "colab": {
     "base_uri": "https://localhost:8080/"
    },
    "id": "6pmQ4oc0zYo9",
    "outputId": "75b092e1-4e01-4945-a323-1ff51ba6a7dc"
   },
   "outputs": [
    {
     "name": "stdout",
     "output_type": "stream",
     "text": [
      "1 \n",
      "1 0 \n",
      "1 0 1 \n",
      "1 0 1 0 \n",
      "1 0 1 0 1 \n"
     ]
    }
   ],
   "source": [
    "#Q3\n",
    "for i in range (1,6):\n",
    "  for j in range (1,i+1):\n",
    "    print(j%2,end=\" \")\n",
    "  print()"
   ]
  },
  {
   "cell_type": "code",
   "execution_count": 1,
   "metadata": {
    "colab": {
     "base_uri": "https://localhost:8080/"
    },
    "id": "LFICcXRh3GSC",
    "outputId": "02538bec-f514-4b98-e2ef-1b190f15fb5e"
   },
   "outputs": [
    {
     "name": "stdout",
     "output_type": "stream",
     "text": [
      "\n",
      "1 \n",
      "2 2 \n",
      "3 3 3 \n",
      "4 4 4 4 \n",
      "5 5 5 5 5 \n"
     ]
    }
   ],
   "source": [
    "#8\n",
    "rows = 6\n",
    "for i in range(rows):\n",
    "  for j in range(i):\n",
    "    print(i, end=' ')\n",
    "  print('')"
   ]
  },
  {
   "cell_type": "code",
   "execution_count": null,
   "metadata": {
    "id": "tA9XC_U98miz"
   },
   "outputs": [],
   "source": []
  }
 ],
 "metadata": {
  "colab": {
   "name": "Untitled2.ipynb",
   "provenance": []
  },
  "kernelspec": {
   "display_name": "Python 3 (ipykernel)",
   "language": "python",
   "name": "python3"
  },
  "language_info": {
   "codemirror_mode": {
    "name": "ipython",
    "version": 3
   },
   "file_extension": ".py",
   "mimetype": "text/x-python",
   "name": "python",
   "nbconvert_exporter": "python",
   "pygments_lexer": "ipython3",
   "version": "3.9.7"
  }
 },
 "nbformat": 4,
 "nbformat_minor": 1
}
